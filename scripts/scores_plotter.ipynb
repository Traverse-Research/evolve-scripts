{
 "cells": [
  {
   "cell_type": "code",
   "execution_count": null,
   "id": "c7a3c3bd-54d5-4979-8502-ac69a32a13fb",
   "metadata": {},
   "outputs": [],
   "source": [
    "%%cmd\n",
    "python -m pip install pandas\n",
    "python -m pip install matplotlib"
   ]
  },
  {
   "cell_type": "code",
   "execution_count": null,
   "id": "21658370-184d-4ab0-b210-d8ab93f0818b",
   "metadata": {},
   "outputs": [],
   "source": [
    "import pandas as pd"
   ]
  },
  {
   "cell_type": "code",
   "execution_count": null,
   "id": "07bb93e8-5d29-4bbf-8f44-be5db0af70c7",
   "metadata": {},
   "outputs": [],
   "source": [
    "files = [\n",
    "    'scores/5070ti_inline.csv',\n",
    "    'scores/5070ti_pipeline.csv',\n",
    "    'scores/9070xt_inline.csv',\n",
    "    'scores/9070xt_pipeline.csv',\n",
    "]"
   ]
  },
  {
   "cell_type": "code",
   "execution_count": null,
   "id": "9088c71c-0fe8-4c87-852e-265b662dcacc",
   "metadata": {},
   "outputs": [],
   "source": [
    "scores = {}\n",
    "\n",
    "for file in files:\n",
    "    # Read csv\n",
    "    file_scores = pd.read_csv(file)\n",
    "    # Remove empty results\n",
    "    file_scores = file_scores.loc[:, (file_scores != 0).any(axis=0)]\n",
    "    scores[file] = file_scores\n",
    "# Reshape into row per metric, column per input file\n",
    "scores = pd.concat(scores).groupby(level=0, sort=False).mean().T.drop('Loop', errors=\"ignore\")\n",
    "scores"
   ]
  },
  {
   "cell_type": "code",
   "execution_count": null,
   "id": "d89bab16-7553-4fd2-953b-05a054362999",
   "metadata": {},
   "outputs": [],
   "source": [
    "scores.plot(kind=\"bar\", figsize=(20,5), colormap='Dark2', grid=True, rot=0, title=\"Evolve scores (higher is better)\", ylabel=\"score\")"
   ]
  }
 ],
 "metadata": {
  "kernelspec": {
   "display_name": "Python 3 (ipykernel)",
   "language": "python",
   "name": "python3"
  },
  "language_info": {
   "codemirror_mode": {
    "name": "ipython",
    "version": 3
   },
   "file_extension": ".py",
   "mimetype": "text/x-python",
   "name": "python",
   "nbconvert_exporter": "python",
   "pygments_lexer": "ipython3",
   "version": "3.13.2"
  }
 },
 "nbformat": 4,
 "nbformat_minor": 5
}
