{
 "cells": [
  {
   "cell_type": "code",
   "execution_count": null,
   "id": "1d9d9451-25fe-40d7-a67e-2fcaf6a9f54a",
   "metadata": {},
   "outputs": [],
   "source": [
    "%%cmd\n",
    "python -m pip install pandas"
   ]
  },
  {
   "cell_type": "code",
   "execution_count": null,
   "id": "4a5f8126-43bc-4cba-b65b-136cbf8971ab",
   "metadata": {},
   "outputs": [],
   "source": [
    "import pandas as pd"
   ]
  },
  {
   "cell_type": "code",
   "execution_count": null,
   "id": "959dce8e-4f96-4505-ba35-0300c3aee0a1",
   "metadata": {},
   "outputs": [],
   "source": [
    "files = [\n",
    "    '../../a_ray_tracing_inline_perframe.csv',\n",
    "    '../../a_ray_tracing_pipeline_perframe.csv',\n",
    "    '../../b_ray_tracing_inline_perframe.csv',\n",
    "    '../../b_ray_tracing_pipeline_perframe.csv',\n",
    "]"
   ]
  },
  {
   "cell_type": "code",
   "execution_count": null,
   "id": "a5f9ea81-7bd2-4f70-a0b8-45164afe8f76",
   "metadata": {},
   "outputs": [],
   "source": [
    "scores = {}\n",
    "\n",
    "for file in files:\n",
    "    # Read csv\n",
    "    file_scores = pd.read_csv(file)\n",
    "    # Remove empty results\n",
    "    file_scores = file_scores.loc[:, (file_scores != 0).any(axis=0)]\n",
    "    scores[file] = file_scores\n",
    "# Reshape into row per input file + sequence time, column per metric\n",
    "scores = pd.concat(scores).reset_index().set_index(['level_0', 'Sequence Time (ns)']).drop(['level_1', 'Loop Index', 'Frame'], axis=1)\n",
    "scores"
   ]
  },
  {
   "cell_type": "code",
   "execution_count": null,
   "id": "b4bbc8ad-fbf4-4c96-8aa4-afb02ff305a0",
   "metadata": {},
   "outputs": [],
   "source": [
    "# Reshape into row per sequence time + metric, column per input file\n",
    "new_scores = scores.stack().unstack(0).reset_index()\n",
    "# ns to s for the sequence time\n",
    "new_scores['Sequence Time (s)'] = new_scores['Sequence Time (ns)'] / 1_000_000_000\n",
    "new_scores = new_scores.drop('Sequence Time (ns)', axis=1)\n",
    "new_scores"
   ]
  },
  {
   "cell_type": "code",
   "execution_count": null,
   "id": "2d6b6f75-251b-4bb2-aa44-e6393cf8140a",
   "metadata": {},
   "outputs": [],
   "source": [
    "for graph_name in new_scores['level_1'].unique():\n",
    "    graph_data = new_scores[new_scores['level_1'] == graph_name]\n",
    "    graph_data = graph_data.drop('level_1', axis=1)\n",
    "    graph_data = graph_data.apply(pd.to_numeric, errors='coerce').interpolate(method='linear')\n",
    "    \n",
    "    graph_data.plot(\n",
    "        x='Sequence Time (s)', \n",
    "        ylabel='value',\n",
    "        xlabel='benchmark timeline in seconds', \n",
    "        kind=\"line\", \n",
    "        logy=True,\n",
    "        figsize=(20,5), \n",
    "        colormap='Dark2', \n",
    "        grid=True, \n",
    "        rot=0,\n",
    "        title=graph_name\n",
    "    )"
   ]
  }
 ],
 "metadata": {
  "kernelspec": {
   "display_name": "Python 3 (ipykernel)",
   "language": "python",
   "name": "python3"
  },
  "language_info": {
   "codemirror_mode": {
    "name": "ipython",
    "version": 3
   },
   "file_extension": ".py",
   "mimetype": "text/x-python",
   "name": "python",
   "nbconvert_exporter": "python",
   "pygments_lexer": "ipython3",
   "version": "3.12.4"
  }
 },
 "nbformat": 4,
 "nbformat_minor": 5
}
