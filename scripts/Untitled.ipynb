{
 "cells": [
  {
   "cell_type": "code",
   "execution_count": null,
   "id": "aadf8bdc-2b8a-4737-992f-0ebf7e66cd8f",
   "metadata": {},
   "outputs": [],
   "source": [
    "%%cmd\n",
    "python -m pip install flatten_json"
   ]
  },
  {
   "cell_type": "code",
   "execution_count": null,
   "id": "bbdc923a-44fd-4250-990b-80771446bbf0",
   "metadata": {},
   "outputs": [],
   "source": [
    "import pandas as pd\n",
    "import json\n",
    "from collections import defaultdict\n",
    "import numpy as np\n",
    "import argparse\n",
    "import sys\n",
    "from flatten_json import flatten\n",
    "import matplotlib.pyplot as plt"
   ]
  },
  {
   "cell_type": "code",
   "execution_count": null,
   "id": "099d7d0d-febc-4562-801a-767c4b028f56",
   "metadata": {},
   "outputs": [],
   "source": [
    "def aggregate_loops_passes(json):\n",
    "    results_per_frame = []\n",
    "    num_loops = len(json)\n",
    "    for loop_results in json:\n",
    "        for frame_index, frame_results in enumerate(loop_results[\"per_frame_results\"]):\n",
    "            #pprint.pprint(frame_results)\n",
    "            if frame_index >= len(results_per_frame):\n",
    "                results_per_frame.append(defaultdict(int))\n",
    "            for command_buffer_timings in frame_results[\n",
    "                \"command_buffer_timings\"\n",
    "            ].values():\n",
    "                for scope_name, scope_timings in command_buffer_timings[\n",
    "                    \"scope_timings\"\n",
    "                ].items():\n",
    "                    for scope_timing in scope_timings:\n",
    "                        results_per_frame[frame_index][scope_name] += (\n",
    "                            scope_timing[\"end\"] - scope_timing[\"start\"]\n",
    "                        ) / num_loops / 1_000_000 # in ms\n",
    "            for metric_name, metric in frame_results[\"metrics\"].items():\n",
    "                # TODO: Flatten this in rust to fan_speed_rpm\n",
    "                if metric_name == \"fan_speed\":\n",
    "                    value = metric[\"Percent\"] if \"Percent\" in metric else metric[\"Rpm\"]\n",
    "                    results_per_frame[frame_index][\"fan_speed_rpm\"] += (\n",
    "                        value / num_loops\n",
    "                    )\n",
    "                # Filter out unavailable data and the timestamp\n",
    "                elif metric is not None and metric_name != \"timestamp\":\n",
    "                    results_per_frame[frame_index][metric_name] += metric / num_loops\n",
    "    # TODO: Aggregate CPU timings\n",
    "    return pd.DataFrame([flatten(x) for x in results_per_frame])\n",
    "\n",
    "\n",
    "def metric_names():\n",
    "    return [\n",
    "        \"edge_temperature_in_c\",\n",
    "        \"hotspot_temperature_in_c\",\n",
    "        \"usage_percentage\",\n",
    "        \"fan_speed_rpm\",\n",
    "        \"clock_speed_in_mhz\",\n",
    "        \"vram_clock_speed_in_mhz\",\n",
    "        \"board_power_usage_in_w\",\n",
    "        \"voltage_in_mv\",\n",
    "        \"vram_usage_in_mb\",\n",
    "    ]"
   ]
  },
  {
   "cell_type": "code",
   "execution_count": null,
   "id": "939b04cb-7ffd-4963-8dac-71c0a76275cf",
   "metadata": {},
   "outputs": [],
   "source": [
    "files = [\n",
    "    #'../../a_path_tracing_workgraph.csv',\n",
    "    #'../../b_path_tracing_workgraph.csv',\n",
    "    '../../a_ray_tracing_inline.csv',\n",
    "    '../../b_ray_tracing_inline.csv',\n",
    "    '../../a_ray_tracing_pipeline.csv',\n",
    "    '../../b_ray_tracing_pipeline.csv',\n",
    "    '../../b_loop.csv'\n",
    "]\n",
    "\n",
    "scores = {}\n",
    "\n",
    "for file in files:\n",
    "    scores[file] = pd.read_csv(file)\n",
    "scores = pd.concat(scores).groupby(level=0, sort=False).mean().T.drop('Loop', errors=\"ignore\")\n",
    "scores"
   ]
  },
  {
   "cell_type": "code",
   "execution_count": null,
   "id": "2fbaaf11-5b32-43ed-84d1-8894ec6de013",
   "metadata": {},
   "outputs": [],
   "source": [
    "scores.plot(kind=\"bar\", figsize=(20,5), colormap='Dark2', grid=True, rot=0)"
   ]
  },
  {
   "cell_type": "code",
   "execution_count": null,
   "id": "a60a4c63-b884-4558-98bd-ee3d14bbc569",
   "metadata": {},
   "outputs": [],
   "source": [
    "files = [\n",
    "    '../../a_ray_tracing_inline_deep.json',\n",
    "    '../../b_ray_tracing_inline_deep.json',\n",
    "    #'../../a_ray_tracing_pipeline_deep.json',\n",
    "    #'../../b_ray_tracing_pipeline_deep.json',\n",
    "    #'../../a_path_tracing_workgraph_deep.json',\n",
    "    #'../../b_path_tracing_workgraph_deep.json',\n",
    "]\n",
    "\n",
    "results = {}\n",
    "\n",
    "for path in files:\n",
    "    with open(path, \"r\") as json_file:\n",
    "        json_data = aggregate_loops_passes(json.load(json_file))\n",
    "    results[path] = json_data\n",
    "result = pd.concat(results)\n",
    "result"
   ]
  },
  {
   "cell_type": "code",
   "execution_count": null,
   "id": "d3e81b11-e754-44ad-9bb0-3b08abe4dddd",
   "metadata": {},
   "outputs": [],
   "source": [
    "result.columns.tolist()"
   ]
  },
  {
   "cell_type": "code",
   "execution_count": null,
   "id": "6046a029-f421-4a9e-a9d6-9889488ff874",
   "metadata": {},
   "outputs": [],
   "source": [
    "relevant_metrics = [\n",
    "    'apply_wind_to_vertices',\n",
    "    'usage_percentage',\n",
    "    'vbuffer-mesh-parts-prefix-sum'\n",
    "]\n",
    "metrics = result[metric_names()]"
   ]
  },
  {
   "cell_type": "code",
   "execution_count": null,
   "id": "f99fd1c3-a1fb-440c-b428-a7f9da8dce8b",
   "metadata": {},
   "outputs": [],
   "source": [
    "filtered_metrics = metrics.stack().unstack(level=0).reset_index()"
   ]
  },
  {
   "cell_type": "code",
   "execution_count": null,
   "id": "f4085d0a-b087-469b-8aeb-dce0be19c41b",
   "metadata": {},
   "outputs": [],
   "source": [
    "filtered_metrics.groupby('level_1').plot(x='level_0', xlabel='frame', figsize=(20,5), colormap='Dark2', grid=True, legend=True)"
   ]
  },
  {
   "cell_type": "code",
   "execution_count": null,
   "id": "e6740136-668a-44a6-9e35-53f80d586ea5",
   "metadata": {},
   "outputs": [],
   "source": []
  },
  {
   "cell_type": "code",
   "execution_count": null,
   "id": "a27cb615-711d-47b7-b570-9fd2da3efb2f",
   "metadata": {},
   "outputs": [],
   "source": []
  },
  {
   "cell_type": "code",
   "execution_count": null,
   "id": "0d18b49a-bb26-4dac-8c8d-f50f6d70fa3d",
   "metadata": {},
   "outputs": [],
   "source": []
  },
  {
   "cell_type": "code",
   "execution_count": null,
   "id": "06b1a356-48f5-4a26-bfc6-0d34cdeaf3a4",
   "metadata": {},
   "outputs": [],
   "source": []
  },
  {
   "cell_type": "code",
   "execution_count": null,
   "id": "0936c27b-d76a-4d2b-8acf-a7f9cfd957c9",
   "metadata": {},
   "outputs": [],
   "source": []
  },
  {
   "cell_type": "code",
   "execution_count": null,
   "id": "bc7b1605-197a-4af5-928f-a59621265541",
   "metadata": {},
   "outputs": [],
   "source": []
  },
  {
   "cell_type": "code",
   "execution_count": null,
   "id": "e7d880f6-fbe6-4c82-9669-d55371add589",
   "metadata": {},
   "outputs": [],
   "source": []
  },
  {
   "cell_type": "code",
   "execution_count": null,
   "id": "86ed4d62-2fbd-463b-bc98-8d25620dce33",
   "metadata": {},
   "outputs": [],
   "source": []
  },
  {
   "cell_type": "code",
   "execution_count": null,
   "id": "8f2ed3de-a804-48f8-bbd9-a0e9aa1c1461",
   "metadata": {},
   "outputs": [],
   "source": []
  },
  {
   "cell_type": "code",
   "execution_count": null,
   "id": "33e1c5a6-6494-4915-9138-7e005b13e784",
   "metadata": {},
   "outputs": [],
   "source": []
  },
  {
   "cell_type": "code",
   "execution_count": null,
   "id": "5bbcc90f-4d88-44a0-9941-aa11bc400ebb",
   "metadata": {},
   "outputs": [],
   "source": []
  },
  {
   "cell_type": "code",
   "execution_count": null,
   "id": "45778568-9d34-4ad8-8122-546f171e0e9a",
   "metadata": {},
   "outputs": [],
   "source": []
  },
  {
   "cell_type": "code",
   "execution_count": null,
   "id": "b5d46180-fa10-43ca-87ea-085321bd59ec",
   "metadata": {},
   "outputs": [],
   "source": []
  },
  {
   "cell_type": "code",
   "execution_count": null,
   "id": "3e563c23-2991-4b6b-9c60-49f497e02474",
   "metadata": {},
   "outputs": [],
   "source": []
  },
  {
   "cell_type": "code",
   "execution_count": null,
   "id": "8090f30c-6053-46b9-b110-ee0ca7748b1e",
   "metadata": {},
   "outputs": [],
   "source": []
  },
  {
   "cell_type": "code",
   "execution_count": null,
   "id": "a7fec099-b121-43f2-8ef6-ee7ef89ba690",
   "metadata": {},
   "outputs": [],
   "source": []
  },
  {
   "cell_type": "code",
   "execution_count": null,
   "id": "6d715819-9d82-42d0-9ee1-0766661e7e63",
   "metadata": {},
   "outputs": [],
   "source": []
  },
  {
   "cell_type": "code",
   "execution_count": null,
   "id": "e2c91a7f-5948-4446-b995-6f7b301f618d",
   "metadata": {},
   "outputs": [],
   "source": []
  },
  {
   "cell_type": "code",
   "execution_count": null,
   "id": "5e8a505b-4a73-4e6a-bc28-4e0f3adfbbdd",
   "metadata": {},
   "outputs": [],
   "source": []
  },
  {
   "cell_type": "code",
   "execution_count": null,
   "id": "28bd4976-bb47-4287-858a-17449717f2d2",
   "metadata": {},
   "outputs": [],
   "source": []
  },
  {
   "cell_type": "code",
   "execution_count": null,
   "id": "ffa75d91-f087-47e4-abee-a9335ba1f81a",
   "metadata": {},
   "outputs": [],
   "source": []
  },
  {
   "cell_type": "code",
   "execution_count": null,
   "id": "7f84c673-e6d9-4df0-b911-f3d29119c8f7",
   "metadata": {},
   "outputs": [],
   "source": []
  },
  {
   "cell_type": "code",
   "execution_count": null,
   "id": "28d8ec51-da05-49ca-bb9e-e6644d2fc3a9",
   "metadata": {},
   "outputs": [],
   "source": []
  },
  {
   "cell_type": "code",
   "execution_count": null,
   "id": "178eb511-0039-4a72-97f2-02c51d267036",
   "metadata": {},
   "outputs": [],
   "source": []
  },
  {
   "cell_type": "code",
   "execution_count": null,
   "id": "e1f27031-080e-49bb-b1a4-91b3bd9fa0da",
   "metadata": {},
   "outputs": [],
   "source": []
  }
 ],
 "metadata": {
  "kernelspec": {
   "display_name": "Python 3 (ipykernel)",
   "language": "python",
   "name": "python3"
  },
  "language_info": {
   "codemirror_mode": {
    "name": "ipython",
    "version": 3
   },
   "file_extension": ".py",
   "mimetype": "text/x-python",
   "name": "python",
   "nbconvert_exporter": "python",
   "pygments_lexer": "ipython3",
   "version": "3.12.4"
  }
 },
 "nbformat": 4,
 "nbformat_minor": 5
}
